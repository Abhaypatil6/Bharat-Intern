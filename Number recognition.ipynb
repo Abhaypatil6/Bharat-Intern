{
 "cells": [
  {
   "cell_type": "code",
   "execution_count": 1,
   "id": "6dd91c8c-ec50-4ef7-9455-786441410e12",
   "metadata": {},
   "outputs": [
    {
     "name": "stdout",
     "output_type": "stream",
     "text": [
      "Epoch 1/5\n",
      "1875/1875 [==============================] - 50s 26ms/step - loss: 0.1492 - accuracy: 0.9531\n",
      "Epoch 2/5\n",
      "1875/1875 [==============================] - 48s 26ms/step - loss: 0.0473 - accuracy: 0.9847\n",
      "Epoch 3/5\n",
      "1875/1875 [==============================] - 50s 26ms/step - loss: 0.0333 - accuracy: 0.9894\n",
      "Epoch 4/5\n",
      "1875/1875 [==============================] - 50s 27ms/step - loss: 0.0269 - accuracy: 0.9915\n",
      "Epoch 5/5\n",
      "1875/1875 [==============================] - 53s 28ms/step - loss: 0.0200 - accuracy: 0.9933\n",
      "313/313 [==============================] - 3s 8ms/step - loss: 0.0427 - accuracy: 0.9875\n",
      "Test accuracy: 0.987500011920929\n",
      "313/313 [==============================] - 4s 10ms/step\n"
     ]
    },
    {
     "data": {
      "image/png": "[encoded data removed]",
      "text/plain": [
       "<Figure size 640x480 with 5 Axes>"
      ]
     },
     "metadata": {},
     "output_type": "display_data"
    },
    {
     "name": "stdout",
     "output_type": "stream",
     "text": [
      "Confusion Matrix:\n",
      "[[ 970    0    0    1    1    4    2    1    1    0]\n",
      " [   0 1120    1    2    0    3    4    0    5    0]\n",
      " [   1    0 1028    0    0    0    0    2    1    0]\n",
      " [   0    0    1 1005    0    4    0    0    0    0]\n",
      " [   0    1    2    0  970    0    5    0    0    4]\n",
      " [   0    0    0    2    0  888    1    0    1    0]\n",
      " [   1    1    0    0    1   10  942    0    3    0]\n",
      " [   0    4   14    2    0    1    0 1005    0    2]\n",
      " [   1    0    3    5    0    1    0    0  963    1]\n",
      " [   0    1    0    1    3   12    1    2    5  984]]\n"
     ]
    }
   ],
   "source": [
    "import numpy as np\n",
    "import tensorflow as tf\n",
    "from tensorflow import keras\n",
    "from tensorflow.keras import layers\n",
    "from tensorflow.keras.datasets import mnist\n",
    "from sklearn.metrics import confusion_matrix\n",
    "import matplotlib.pyplot as plt\n",
    "import random\n",
    "\n",
    "# Load and preprocess the MNIST dataset\n",
    "(train_images, train_labels), (test_images, test_labels) = mnist.load_data()\n",
    "train_images = train_images.reshape((60000, 28, 28, 1))\n",
    "test_images = test_images.reshape((10000, 28, 28, 1))\n",
    "train_images, test_images = train_images / 255.0, test_images / 255.0\n",
    "\n",
    "# Define the CNN model\n",
    "model = keras.Sequential([\n",
    "    layers.Conv2D(32, (3, 3), activation='relu', input_shape=(28, 28, 1)),\n",
    "    layers.MaxPooling2D((2, 2)),\n",
    "    layers.Conv2D(64, (3, 3), activation='relu'),\n",
    "    layers.MaxPooling2D((2, 2)),\n",
    "    layers.Conv2D(64, (3, 3), activation='relu'),\n",
    "    layers.Flatten(),\n",
    "    layers.Dense(64, activation='relu'),\n",
    "    layers.Dense(10, activation='softmax')\n",
    "])\n",
    "\n",
    "# Compile the model\n",
    "model.compile(optimizer='adam',\n",
    "              loss='sparse_categorical_crossentropy',\n",
    "              metrics=['accuracy'])\n",
    "\n",
    "# Train the model\n",
    "model.fit(train_images, train_labels, epochs=5)\n",
    "\n",
    "# Evaluate the model on the test data\n",
    "test_loss, test_acc = model.evaluate(test_images, test_labels)\n",
    "print(f'Test accuracy: {test_acc}')\n",
    "\n",
    "# Make predictions\n",
    "predictions = model.predict(test_images)\n",
    "\n",
    "# Visualize some sample predictions\n",
    "num_samples_to_visualize = 5\n",
    "sample_indices = random.sample(range(len(test_images)), num_samples_to_visualize)\n",
    "for i, index in enumerate(sample_indices):\n",
    "    plt.subplot(1, num_samples_to_visualize, i + 1)\n",
    "    plt.imshow(test_images[index].reshape(28, 28), cmap='gray')\n",
    "    plt.title(f'Predicted: {np.argmax(predictions[index])}, Actual: {test_labels[index]}')\n",
    "    plt.axis('off')\n",
    "\n",
    "plt.show()\n",
    "\n",
    "# Calculate the confusion matrix\n",
    "predicted_labels = np.argmax(predictions, axis=1)\n",
    "conf_matrix = confusion_matrix(test_labels, predicted_labels)\n",
    "print(\"Confusion Matrix:\")\n",
    "print(conf_matrix)"
   ]
  }
 ],
 "metadata": {
  "kernelspec": {
   "display_name": "Python 3 (ipykernel)",
   "language": "python",
   "name": "python3"
  },
  "language_info": {
   "codemirror_mode": {
    "name": "ipython",
    "version": 3
   },
   "file_extension": ".py",
   "mimetype": "text/x-python",
   "name": "python",
   "nbconvert_exporter": "python",
   "pygments_lexer": "ipython3",
   "version": "3.11.6"
  }
 },
 "nbformat": 4,
 "nbformat_minor": 5
}
